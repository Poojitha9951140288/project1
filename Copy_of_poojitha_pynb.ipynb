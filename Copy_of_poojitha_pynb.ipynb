{
  "nbformat": 4,
  "nbformat_minor": 0,
  "metadata": {
    "colab": {
      "provenance": [],
      "authorship_tag": "ABX9TyPp7NASfFTtBUXgWfwcRnWF",
      "include_colab_link": true
    },
    "kernelspec": {
      "name": "python3",
      "display_name": "Python 3"
    },
    "language_info": {
      "name": "python"
    }
  },
  "cells": [
    {
      "cell_type": "markdown",
      "metadata": {
        "id": "view-in-github",
        "colab_type": "text"
      },
      "source": [
        "<a href=\"https://colab.research.google.com/github/Poojitha9951140288/project1/blob/main/Copy_of_poojitha_pynb.ipynb\" target=\"_parent\"><img src=\"https://colab.research.google.com/assets/colab-badge.svg\" alt=\"Open In Colab\"/></a>"
      ]
    },
    {
      "cell_type": "code",
      "execution_count": null,
      "metadata": {
        "colab": {
          "base_uri": "https://localhost:8080/"
        },
        "id": "14xnlLuWVkpj",
        "outputId": "5bc9a901-0016-4fd9-9987-4933d409369d"
      },
      "outputs": [
        {
          "output_type": "execute_result",
          "data": {
            "text/plain": [
              "int"
            ]
          },
          "metadata": {},
          "execution_count": 1
        }
      ],
      "source": [
        "i=10\n",
        "type(i)"
      ]
    },
    {
      "cell_type": "code",
      "source": [
        "#list:=>"
      ],
      "metadata": {
        "id": "qH7INiDBHhDe"
      },
      "execution_count": null,
      "outputs": []
    },
    {
      "cell_type": "code",
      "source": [
        "a =[22,34,45,46]\n",
        "type(a)"
      ],
      "metadata": {
        "id": "XmrADfOdVnQ9",
        "colab": {
          "base_uri": "https://localhost:8080/"
        },
        "outputId": "0645ac9c-5463-4bc6-ade0-03c84fa43f47"
      },
      "execution_count": null,
      "outputs": [
        {
          "output_type": "execute_result",
          "data": {
            "text/plain": [
              "list"
            ]
          },
          "metadata": {},
          "execution_count": 1
        }
      ]
    },
    {
      "cell_type": "markdown",
      "source": [],
      "metadata": {
        "id": "UiViSCX-VnvG"
      }
    },
    {
      "cell_type": "code",
      "source": [
        "c=[203,\"hyb\",45,'title',True]\n",
        "type(a)"
      ],
      "metadata": {
        "colab": {
          "base_uri": "https://localhost:8080/"
        },
        "id": "9N_qoUkqB-FQ",
        "outputId": "bb4b628f-6ed8-4f9a-e7b2-bce780fd09c3"
      },
      "execution_count": null,
      "outputs": [
        {
          "output_type": "execute_result",
          "data": {
            "text/plain": [
              "list"
            ]
          },
          "metadata": {},
          "execution_count": 3
        }
      ]
    },
    {
      "cell_type": "code",
      "source": [
        "c[0]"
      ],
      "metadata": {
        "colab": {
          "base_uri": "https://localhost:8080/"
        },
        "id": "ck0AK_rJCvUn",
        "outputId": "ecce3088-2d04-4a83-e4f0-9c9a49c36cf6"
      },
      "execution_count": null,
      "outputs": [
        {
          "output_type": "execute_result",
          "data": {
            "text/plain": [
              "203"
            ]
          },
          "metadata": {},
          "execution_count": 5
        }
      ]
    },
    {
      "cell_type": "code",
      "source": [
        "c[-2]"
      ],
      "metadata": {
        "colab": {
          "base_uri": "https://localhost:8080/",
          "height": 35
        },
        "id": "RsnLXYJ9IWMs",
        "outputId": "d9e2cdba-a2d8-4583-a6a8-0bdfdfd1125d"
      },
      "execution_count": null,
      "outputs": [
        {
          "output_type": "execute_result",
          "data": {
            "text/plain": [
              "'title'"
            ],
            "application/vnd.google.colaboratory.intrinsic+json": {
              "type": "string"
            }
          },
          "metadata": {},
          "execution_count": 13
        }
      ]
    },
    {
      "cell_type": "code",
      "source": [
        "#SLICING => Listname[Start:end]=>end+1"
      ],
      "metadata": {
        "id": "LqNcPMsnEkE1"
      },
      "execution_count": null,
      "outputs": []
    },
    {
      "cell_type": "code",
      "source": [
        "c[2:5]"
      ],
      "metadata": {
        "colab": {
          "base_uri": "https://localhost:8080/"
        },
        "id": "0R7Mb9MOFAsq",
        "outputId": "470964fd-3f0c-4e0d-8ee0-c6004147557d"
      },
      "execution_count": null,
      "outputs": [
        {
          "output_type": "execute_result",
          "data": {
            "text/plain": [
              "[45, 'title', True]"
            ]
          },
          "metadata": {},
          "execution_count": 7
        }
      ]
    },
    {
      "cell_type": "code",
      "source": [
        "c[:3]\n",
        "#defalt value is taken from zero"
      ],
      "metadata": {
        "colab": {
          "base_uri": "https://localhost:8080/"
        },
        "id": "4wJXL1QwFmdE",
        "outputId": "90d6dee0-91c4-4a6a-9c01-9ae83bba1ff8"
      },
      "execution_count": null,
      "outputs": [
        {
          "output_type": "execute_result",
          "data": {
            "text/plain": [
              "[203, 'hyb', 45]"
            ]
          },
          "metadata": {},
          "execution_count": 9
        }
      ]
    },
    {
      "cell_type": "code",
      "source": [
        "c[3:]\n",
        "#default value of the last value"
      ],
      "metadata": {
        "colab": {
          "base_uri": "https://localhost:8080/"
        },
        "id": "SjnSRhdTGHi5",
        "outputId": "e4f9bfe2-0930-4892-c773-210967c15aca"
      },
      "execution_count": null,
      "outputs": [
        {
          "output_type": "execute_result",
          "data": {
            "text/plain": [
              "['title', True]"
            ]
          },
          "metadata": {},
          "execution_count": 10
        }
      ]
    },
    {
      "cell_type": "code",
      "source": [
        "#stepsize size in slicing Listname[Start:end:stepsize]=>end+1"
      ],
      "metadata": {
        "id": "aWlPtRD2GiJN"
      },
      "execution_count": null,
      "outputs": []
    },
    {
      "cell_type": "code",
      "source": [
        "c[1:5:2]"
      ],
      "metadata": {
        "colab": {
          "base_uri": "https://localhost:8080/"
        },
        "id": "faz4MofjGoot",
        "outputId": "0d499162-3b68-4e9c-9f62-a45d00905a33"
      },
      "execution_count": null,
      "outputs": [
        {
          "output_type": "execute_result",
          "data": {
            "text/plain": [
              "['hyb', 'title']"
            ]
          },
          "metadata": {},
          "execution_count": 11
        }
      ]
    },
    {
      "cell_type": "code",
      "source": [
        "c\n"
      ],
      "metadata": {
        "colab": {
          "base_uri": "https://localhost:8080/"
        },
        "id": "-fJlJrwYG13E",
        "outputId": "128e1e71-e216-42e4-ebe9-dc9c094543ac"
      },
      "execution_count": null,
      "outputs": [
        {
          "output_type": "execute_result",
          "data": {
            "text/plain": [
              "[203, 'hyb', 45, 'title', True]"
            ]
          },
          "metadata": {},
          "execution_count": 12
        }
      ]
    },
    {
      "cell_type": "code",
      "source": [
        "from typing import Counter\n",
        "#\n",
        " #list MethodDescriptorType\n",
        " #clear=>to clear\n",
        "# Count=to count the index\n",
        "#remove => delete value itself\n",
        "#append=>IT WILL ADD IN THE THE LAST POSITION\n",
        "#insert=>it will ADD IN ANY POSITION\n",
        "#POP=>TO DELETE with the index position\n",
        "\n"
      ],
      "metadata": {
        "id": "O9c9ZoxeJ0Ka"
      },
      "execution_count": null,
      "outputs": []
    },
    {
      "cell_type": "code",
      "source": [
        "len(c)"
      ],
      "metadata": {
        "colab": {
          "base_uri": "https://localhost:8080/"
        },
        "id": "G8UO79hSKWMk",
        "outputId": "07b953c2-eb1b-41a0-be92-7a1d3ffdbb9a"
      },
      "execution_count": null,
      "outputs": [
        {
          "output_type": "execute_result",
          "data": {
            "text/plain": [
              "5"
            ]
          },
          "metadata": {},
          "execution_count": 14
        }
      ]
    },
    {
      "cell_type": "code",
      "source": [
        "c.append(90)"
      ],
      "metadata": {
        "id": "okfhVXIyKfUr"
      },
      "execution_count": null,
      "outputs": []
    },
    {
      "cell_type": "code",
      "source": [
        "c"
      ],
      "metadata": {
        "colab": {
          "base_uri": "https://localhost:8080/"
        },
        "id": "CD4YEmcJKm8w",
        "outputId": "707e8fac-51b1-427e-806b-50111fb7185b"
      },
      "execution_count": null,
      "outputs": [
        {
          "output_type": "execute_result",
          "data": {
            "text/plain": [
              "[203, 'hyb', 45, 'title', True, 90]"
            ]
          },
          "metadata": {},
          "execution_count": 16
        }
      ]
    },
    {
      "cell_type": "code",
      "source": [
        "c.append(\"poojitha\")"
      ],
      "metadata": {
        "id": "py8scYXsKrNb"
      },
      "execution_count": null,
      "outputs": []
    },
    {
      "cell_type": "code",
      "source": [
        "c"
      ],
      "metadata": {
        "colab": {
          "base_uri": "https://localhost:8080/"
        },
        "id": "XVgCWD3hK1-4",
        "outputId": "37009569-6253-4ef8-d07d-c60daa1783c1"
      },
      "execution_count": null,
      "outputs": [
        {
          "output_type": "execute_result",
          "data": {
            "text/plain": [
              "[203, 'hyb', 45, 'title', True, 90, 'poojitha']"
            ]
          },
          "metadata": {},
          "execution_count": 19
        }
      ]
    },
    {
      "cell_type": "code",
      "source": [
        "c.append(\"poojitha\")"
      ],
      "metadata": {
        "id": "Tupy2jpIK-mt"
      },
      "execution_count": null,
      "outputs": []
    },
    {
      "cell_type": "code",
      "source": [
        "c"
      ],
      "metadata": {
        "colab": {
          "base_uri": "https://localhost:8080/"
        },
        "id": "QpA_SZkQLEYL",
        "outputId": "6df7cfd3-2c15-4e39-badc-46e86947afab"
      },
      "execution_count": null,
      "outputs": [
        {
          "output_type": "execute_result",
          "data": {
            "text/plain": [
              "[203, 'hyb', 45, 'title', True, 90, 'poojitha', 'poojitha']"
            ]
          },
          "metadata": {},
          "execution_count": 21
        }
      ]
    },
    {
      "cell_type": "code",
      "source": [
        "c.insert(4,90)"
      ],
      "metadata": {
        "id": "nAETj8dfLJYL"
      },
      "execution_count": null,
      "outputs": []
    },
    {
      "cell_type": "code",
      "source": [
        "c\n"
      ],
      "metadata": {
        "colab": {
          "base_uri": "https://localhost:8080/"
        },
        "id": "Uppa3xivLSEq",
        "outputId": "3d846e3c-b435-40f2-c66c-c183146998ba"
      },
      "execution_count": null,
      "outputs": [
        {
          "output_type": "execute_result",
          "data": {
            "text/plain": [
              "[203, 'hyb', 45, 'title', 90, True, 90, 'poojitha', 'poojitha']"
            ]
          },
          "metadata": {},
          "execution_count": 23
        }
      ]
    },
    {
      "cell_type": "code",
      "source": [
        "c.pop(5)"
      ],
      "metadata": {
        "colab": {
          "base_uri": "https://localhost:8080/"
        },
        "id": "ml7xF-a8L12u",
        "outputId": "3f4d5b0e-e7ad-4ff8-a41c-9d85ee06fdd0"
      },
      "execution_count": null,
      "outputs": [
        {
          "output_type": "execute_result",
          "data": {
            "text/plain": [
              "True"
            ]
          },
          "metadata": {},
          "execution_count": 24
        }
      ]
    },
    {
      "cell_type": "code",
      "source": [
        "c\n"
      ],
      "metadata": {
        "colab": {
          "base_uri": "https://localhost:8080/"
        },
        "id": "-sRqRQ2BMASl",
        "outputId": "72e0788a-1af9-4e54-980c-c23b9126428d"
      },
      "execution_count": null,
      "outputs": [
        {
          "output_type": "execute_result",
          "data": {
            "text/plain": [
              "[203, 'hyb', 45, 'title', 90, 90, 'poojitha', 'poojitha']"
            ]
          },
          "metadata": {},
          "execution_count": 25
        }
      ]
    },
    {
      "cell_type": "code",
      "source": [
        "c.clear()"
      ],
      "metadata": {
        "id": "6UrZPpZ5MYG7"
      },
      "execution_count": null,
      "outputs": []
    },
    {
      "cell_type": "code",
      "source": [
        "c"
      ],
      "metadata": {
        "colab": {
          "base_uri": "https://localhost:8080/"
        },
        "id": "L0ubpL9_MgT_",
        "outputId": "80254951-d0e2-49fe-cc27-3bb784c3d610"
      },
      "execution_count": null,
      "outputs": [
        {
          "output_type": "execute_result",
          "data": {
            "text/plain": [
              "[]"
            ]
          },
          "metadata": {},
          "execution_count": 27
        }
      ]
    },
    {
      "cell_type": "code",
      "source": [
        "c=[203, 'hyb', 45, 'title', True, 90, 'poojitha', 'poojitha']"
      ],
      "metadata": {
        "id": "CR-tDdrUMiP2"
      },
      "execution_count": null,
      "outputs": []
    },
    {
      "cell_type": "code",
      "source": [
        "c.remove('poojitha')"
      ],
      "metadata": {
        "id": "xkrSqGzyM3Yd"
      },
      "execution_count": null,
      "outputs": []
    },
    {
      "cell_type": "code",
      "source": [
        "c"
      ],
      "metadata": {
        "colab": {
          "base_uri": "https://localhost:8080/"
        },
        "id": "A7V49neTM-3c",
        "outputId": "1da10827-3a2d-4ddb-ed56-66b3261d72b3"
      },
      "execution_count": null,
      "outputs": [
        {
          "output_type": "execute_result",
          "data": {
            "text/plain": [
              "[203, 'hyb', 45, 'title', True, 90, 'poojitha']"
            ]
          },
          "metadata": {},
          "execution_count": 32
        }
      ]
    },
    {
      "cell_type": "code",
      "source": [
        "c.count('poojitha')"
      ],
      "metadata": {
        "colab": {
          "base_uri": "https://localhost:8080/"
        },
        "id": "gWCwnTm_NeJP",
        "outputId": "4c8cf5d7-0dd0-4785-d543-b551efb78dc8"
      },
      "execution_count": null,
      "outputs": [
        {
          "output_type": "execute_result",
          "data": {
            "text/plain": [
              "1"
            ]
          },
          "metadata": {},
          "execution_count": 33
        }
      ]
    },
    {
      "cell_type": "code",
      "source": [],
      "metadata": {
        "id": "DVgTDDBmNmAA"
      },
      "execution_count": null,
      "outputs": []
    }
  ]
}